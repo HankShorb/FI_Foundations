{
  "cells": [
    {
      "cell_type": "markdown",
      "metadata": {
        "id": "pa05Tibwge4H"
      },
      "source": [
        "## Lab: Modeling Time Series Data"
      ]
    },
    {
      "cell_type": "markdown",
      "metadata": {
        "id": "j_L9SekiHSHl"
      },
      "source": [
        "#### Scenario\n",
        "\n",
        "As a junior data scientist at AirGo Analytics, your role is to build a forecasting model for airline passenger trends. In the previous lab, you explored the dataset, detected trends and seasonality, and applied transformations to prepare the data for modeling. Now, your goal is to develop an ARIMA (AutoRegressive Integrated Moving Average) model to predict airline passenger traffic for the next 12 months.\n",
        "\n",
        "The forecasting process involves selecting ARIMA parameters using Autocorrelation Function (ACF) and Partial Autocorrelation Function (PACF) plots, fitting the model, and evaluating its accuracy using error metrics such as MAE and RMSE. This reflects a common industry challenge in which businesses rely on time series forecasting to inform decisions about resource allocation, pricing strategies, and operational planning.\n",
        "\n"
      ]
    },
    {
      "cell_type": "markdown",
      "metadata": {
        "id": "79tZaWCYgfi2"
      },
      "source": [
        "### Step 0: Load and Prepare the Dataset\n",
        "* Import necessary libraries.\n",
        "* Load 'AirPassengers.csv' and inspect the data."
      ]
    },
    {
      "cell_type": "code",
      "execution_count": null,
      "metadata": {
        "id": "t8pyKGx3ezxV"
      },
      "outputs": [
        {
          "data": {
            "text/html": [
              "<div>\n",
              "<style scoped>\n",
              "    .dataframe tbody tr th:only-of-type {\n",
              "        vertical-align: middle;\n",
              "    }\n",
              "\n",
              "    .dataframe tbody tr th {\n",
              "        vertical-align: top;\n",
              "    }\n",
              "\n",
              "    .dataframe thead th {\n",
              "        text-align: right;\n",
              "    }\n",
              "</style>\n",
              "<table border=\"1\" class=\"dataframe\">\n",
              "  <thead>\n",
              "    <tr style=\"text-align: right;\">\n",
              "      <th></th>\n",
              "      <th>time</th>\n",
              "      <th>value</th>\n",
              "    </tr>\n",
              "  </thead>\n",
              "  <tbody>\n",
              "    <tr>\n",
              "      <th>0</th>\n",
              "      <td>1949.000000</td>\n",
              "      <td>112</td>\n",
              "    </tr>\n",
              "    <tr>\n",
              "      <th>1</th>\n",
              "      <td>1949.083333</td>\n",
              "      <td>118</td>\n",
              "    </tr>\n",
              "    <tr>\n",
              "      <th>2</th>\n",
              "      <td>1949.166667</td>\n",
              "      <td>132</td>\n",
              "    </tr>\n",
              "    <tr>\n",
              "      <th>3</th>\n",
              "      <td>1949.250000</td>\n",
              "      <td>129</td>\n",
              "    </tr>\n",
              "    <tr>\n",
              "      <th>4</th>\n",
              "      <td>1949.333333</td>\n",
              "      <td>121</td>\n",
              "    </tr>\n",
              "  </tbody>\n",
              "</table>\n",
              "</div>"
            ],
            "text/plain": [
              "          time  value\n",
              "0  1949.000000    112\n",
              "1  1949.083333    118\n",
              "2  1949.166667    132\n",
              "3  1949.250000    129\n",
              "4  1949.333333    121"
            ]
          },
          "execution_count": 1,
          "metadata": {},
          "output_type": "execute_result"
        }
      ],
      "source": [
        "# CodeGrade step0\n",
        "\n",
        "# Import libraries\n",
        "import pandas as pd\n",
        "import numpy as np\n",
        "import matplotlib.pyplot as plt\n",
        "import seaborn as sns\n",
        "import statsmodels.api as sm\n",
        "from statsmodels.tsa.stattools import adfuller\n",
        "from statsmodels.graphics.tsaplots import plot_acf, plot_pacf\n",
        "from statsmodels.tsa.arima.model import ARIMA\n",
        "from sklearn.metrics import mean_absolute_error, mean_squared_error\n",
        "\n",
        "# Load dataset\n",
        "data = pd.read_csv('AirPassengers.csv')\n",
        "\n",
        "# Look at the data\n",
        "data.head()"
      ]
    },
    {
      "cell_type": "markdown",
      "metadata": {
        "id": "0dhXppIegnAd"
      },
      "source": [
        "### Step 1: Convert the Data to a Time Series Format\n",
        "* Convert the time column to datetime format.\n",
        "* Set the Month column as the index.\n",
        "* Rename value to `Passengers`.\n",
        "* Set Month as the index and define its frequency as 'MS'.\n",
        " * To make sure this runs corrrectly, do this both in 'pd.data_range' and 'data.index.freq'.\n",
        "* Verify by checking a specific value, viz. the first value using '.iloc'. (Round this to two decimal places.)"
      ]
    },
    {
      "cell_type": "code",
      "execution_count": 2,
      "metadata": {
        "id": "n26A62Z3gvqk"
      },
      "outputs": [],
      "source": [
        "# CodeGrade step1\n",
        "\n",
        "# Convert to DataFrame and set index\n",
        "data['Month'] = pd.to_datetime(data['time'], format='%Y') # Change the format to '%Y' to match the year-only format in the 'time' column\n",
        "# set Month as index\n",
        "data.set_index('Month', inplace=True)\n",
        "# rename value to Passengers\n",
        "data.rename(columns={'value': 'Passengers'}, inplace=True) "
      ]
    },
    {
      "cell_type": "markdown",
      "metadata": {
        "id": "G2Cuv9QbgxIG"
      },
      "source": [
        "### Step 2: Transform and Visualize the Data\n",
        "* Apply log transformation to stabilize variance.\n",
        "* Perform first-order differencing to remove trends.\n",
        "* Display the dataset shape after transformation."
      ]
    },
    {
      "cell_type": "code",
      "execution_count": 4,
      "metadata": {
        "id": "ZHC2fscRg6I7"
      },
      "outputs": [
        {
          "data": {
            "text/plain": [
              "(144, 4)"
            ]
          },
          "execution_count": 4,
          "metadata": {},
          "output_type": "execute_result"
        }
      ],
      "source": [
        "# CodeGrade step2\n",
        "\n",
        "# Log Transformation\n",
        "data['Log_Passengers'] = np.log(data['Passengers'])\n",
        "\n",
        "# Differencing (first order)\n",
        "data['Diff_Passengers'] = data['Log_Passengers'].diff()\n",
        "data.shape"
      ]
    },
    {
      "cell_type": "markdown",
      "metadata": {
        "id": "jB78EpdvIVCr"
      },
      "source": [
        "Plot ACF and PACF to determine ARIMA parameters."
      ]
    },
    {
      "cell_type": "code",
      "execution_count": 5,
      "metadata": {
        "id": "5NXh3BBVgoNQ"
      },
      "outputs": [
        {
          "data": {
            "image/png": "[encoded data removed]",
            "text/plain": [
              "<Figure size 640x480 with 1 Axes>"
            ]
          },
          "metadata": {},
          "output_type": "display_data"
        },
        {
          "data": {
            "image/png": "[encoded data removed]",
            "text/plain": [
              "<Figure size 640x480 with 1 Axes>"
            ]
          },
          "metadata": {},
          "output_type": "display_data"
        }
      ],
      "source": [
        "# ACF and PACF plots\n",
        "plot_acf(data['Diff_Passengers'].dropna())\n",
        "plt.show()\n",
        "plot_pacf(data['Diff_Passengers'].dropna())\n",
        "plt.show()"
      ]
    },
    {
      "cell_type": "markdown",
      "metadata": {
        "id": "NtvTGZ2hg-Yi"
      },
      "source": [
        "### Step 3: Fit an ARIMA Model\n",
        "* Define and train an ARIMA (2,1,2) model based on ACF/PACF insights.\n",
        "* Compute Akaike Information Criterion (AIC) and Bayesian Information Criterion (BIC) for model evaluation.\n",
        " * Return these valiues as 'aic, bic', where they are both rounded to 1 decimal places"
      ]
    },
    {
      "cell_type": "code",
      "execution_count": 10,
      "metadata": {
        "id": "VWaQNk875mUv"
      },
      "outputs": [
        {
          "name": "stderr",
          "output_type": "stream",
          "text": [
            "/opt/anaconda3/envs/ml-env/lib/python3.12/site-packages/statsmodels/tsa/base/tsa_model.py:473: ValueWarning: A date index has been provided, but it has no associated frequency information and so will be ignored when e.g. forecasting.\n",
            "  self._init_dates(dates, freq)\n",
            "/opt/anaconda3/envs/ml-env/lib/python3.12/site-packages/statsmodels/tsa/base/tsa_model.py:473: ValueWarning: A date index has been provided, but it has no associated frequency information and so will be ignored when e.g. forecasting.\n",
            "  self._init_dates(dates, freq)\n",
            "/opt/anaconda3/envs/ml-env/lib/python3.12/site-packages/statsmodels/tsa/base/tsa_model.py:473: ValueWarning: A date index has been provided, but it has no associated frequency information and so will be ignored when e.g. forecasting.\n",
            "  self._init_dates(dates, freq)\n"
          ]
        },
        {
          "data": {
            "text/plain": [
              "(-247.8, -233.0)"
            ]
          },
          "execution_count": 10,
          "metadata": {},
          "output_type": "execute_result"
        }
      ],
      "source": [
        "# CodeGrade step3\n",
        "\n",
        "# Define and fit ARIMA model\n",
        "from tabnanny import verbose\n",
        "\n",
        "\n",
        "model = ARIMA(data['Log_Passengers'].dropna(), order=(2,1,2))\n",
        "model_fit = model.fit()\n",
        "\n",
        "# Print model summary\n",
        "aic = model_fit.aic\n",
        "bic = model_fit.bic\n",
        "\n",
        "np.round(aic, 1), np.round(bic, 1)"
      ]
    },
    {
      "cell_type": "markdown",
      "metadata": {
        "id": "AlT3J0QXIsB4"
      },
      "source": [
        "Plot Model Diagnostics to analyze residuals and model fit."
      ]
    },
    {
      "cell_type": "markdown",
      "metadata": {},
      "source": [
        "I'm not sure what this is asking for. I'm not seeing any corresponding examples from the technical lesson."
      ]
    },
    {
      "cell_type": "code",
      "execution_count": 15,
      "metadata": {
        "id": "QfJ9n41Cj6bi"
      },
      "outputs": [],
      "source": [
        "# Model Diagnostics\n"
      ]
    },
    {
      "cell_type": "markdown",
      "metadata": {
        "id": "gtJE1JTVhGcZ"
      },
      "source": [
        "### Step 4: Forecast Future Passenger Counts\n",
        "* Forecast the next 12 months and revert to the original scale.\n",
        "* Define the future time index.\n",
        "* Create the future indiex\n",
        "* Return the shape of 'future_dates'"
      ]
    },
    {
      "cell_type": "code",
      "execution_count": 11,
      "metadata": {
        "id": "g2SyXGTmhHT8"
      },
      "outputs": [
        {
          "name": "stderr",
          "output_type": "stream",
          "text": [
            "/opt/anaconda3/envs/ml-env/lib/python3.12/site-packages/statsmodels/tsa/base/tsa_model.py:837: ValueWarning: No supported index is available. Prediction results will be given with an integer index beginning at `start`.\n",
            "  return get_prediction_index(\n",
            "/opt/anaconda3/envs/ml-env/lib/python3.12/site-packages/statsmodels/tsa/base/tsa_model.py:837: FutureWarning: No supported index is available. In the next version, calling this method in a model without a supported index will result in an exception.\n",
            "  return get_prediction_index(\n",
            "/var/folders/jf/3y2_l73d7sl6bpk1k0l0l_fh0000gn/T/ipykernel_7124/3225721415.py:10: FutureWarning: 'M' is deprecated and will be removed in a future version, please use 'ME' instead.\n",
            "  future_dates = pd.date_range(start='1960-01', periods=12, freq='M')\n"
          ]
        },
        {
          "data": {
            "text/plain": [
              "(12,)"
            ]
          },
          "execution_count": 11,
          "metadata": {},
          "output_type": "execute_result"
        }
      ],
      "source": [
        "# CodeGrade step4\n",
        "\n",
        "# Forecast next 12 months\n",
        "forecast = model_fit.forecast(steps=12)\n",
        "\n",
        "# Convert back from log scale\n",
        "forecast_exp = np.exp(forecast)\n",
        "\n",
        "# Create future index\n",
        "future_dates = pd.date_range(start='1960-01', periods=12, freq='M')\n",
        "\n",
        "future_dates.shape"
      ]
    },
    {
      "cell_type": "markdown",
      "metadata": {
        "id": "XeJArWlzI8Pw"
      },
      "source": [
        "Plot predictions vs actual data."
      ]
    },
    {
      "cell_type": "code",
      "execution_count": 23,
      "metadata": {
        "id": "0e3gY5yvj3OR"
      },
      "outputs": [
        {
          "name": "stderr",
          "output_type": "stream",
          "text": [
            "/opt/anaconda3/envs/ml-env/lib/python3.12/site-packages/statsmodels/tsa/base/tsa_model.py:837: ValueWarning: No supported index is available. Prediction results will be given with an integer index beginning at `start`.\n",
            "  return get_prediction_index(\n",
            "/opt/anaconda3/envs/ml-env/lib/python3.12/site-packages/statsmodels/tsa/base/tsa_model.py:837: FutureWarning: No supported index is available. In the next version, calling this method in a model without a supported index will result in an exception.\n",
            "  return get_prediction_index(\n"
          ]
        },
        {
          "data": {
            "image/png": "[encoded data removed]",
            "text/plain": [
              "<Figure size 1000x500 with 1 Axes>"
            ]
          },
          "metadata": {},
          "output_type": "display_data"
        }
      ],
      "source": [
        "# Plot predictions\n",
        "# Get in-sample predictions\n",
        "predictions = model_fit.predict(start=1, end=len(data))  # Get predictions for the original time series range\n",
        "# Instead of dropping the first value, align the predictions with true_values:\n",
        "true_values = data['Log_Passengers']\n",
        "\n",
        "# convert predictions index to match true_values index with datetime format\n",
        "predictions.index = true_values.index\n",
        "\n",
        "#plot predictions vs actual data matching the index\n",
        "plt.figure(figsize=(10, 5))\n",
        "plt.plot(true_values, label='Actual Data')\n",
        "plt.plot(predictions, label='Predicted Data')\n",
        "plt.legend()\n",
        "plt.show()"
      ]
    },
    {
      "cell_type": "markdown",
      "metadata": {
        "id": "QlWQM2sSkOjk"
      },
      "source": [
        "### Step 5: Evaluate the Model’s Performance\n",
        "* Compute Mean Absolute Error (MAE) and Root Mean Squared Error (RMSE).\n",
        "* When computing these two values also round them to four decimal places\n",
        "* Return 'mae, rmse'"
      ]
    },
    {
      "cell_type": "code",
      "execution_count": 17,
      "metadata": {
        "id": "rMWi4VqikQn0"
      },
      "outputs": [
        {
          "name": "stderr",
          "output_type": "stream",
          "text": [
            "/opt/anaconda3/envs/ml-env/lib/python3.12/site-packages/statsmodels/tsa/base/tsa_model.py:837: ValueWarning: No supported index is available. Prediction results will be given with an integer index beginning at `start`.\n",
            "  return get_prediction_index(\n",
            "/opt/anaconda3/envs/ml-env/lib/python3.12/site-packages/statsmodels/tsa/base/tsa_model.py:837: FutureWarning: No supported index is available. In the next version, calling this method in a model without a supported index will result in an exception.\n",
            "  return get_prediction_index(\n"
          ]
        },
        {
          "data": {
            "text/plain": [
              "(0.0345, 0.0417)"
            ]
          },
          "execution_count": 17,
          "metadata": {},
          "output_type": "execute_result"
        }
      ],
      "source": [
        "# CodeGrade step5\n",
        "\n",
        "# Get in-sample predictions\n",
        "predictions = model_fit.predict(start=1, end=len(data))  # Get predictions for the original time series range\n",
        "# Instead of dropping the first value, align the predictions with true_values:\n",
        "true_values = data['Log_Passengers']\n",
        "# predictions = predictions[true_values.index]  # Align predictions with true_values index\n",
        "predictions = predictions.to_numpy()\n",
        "\n",
        "# Calculate error metrics\n",
        "mae = round(mean_absolute_error(true_values, predictions), 4)\n",
        "rmse = round(np.sqrt(mean_squared_error(true_values, predictions)), 4)\n",
        "\n",
        "mae, rmse"
      ]
    }
  ],
  "metadata": {
    "colab": {
      "provenance": []
    },
    "kernelspec": {
      "display_name": "ml-env",
      "language": "python",
      "name": "python3"
    },
    "language_info": {
      "codemirror_mode": {
        "name": "ipython",
        "version": 3
      },
      "file_extension": ".py",
      "mimetype": "text/x-python",
      "name": "python",
      "nbconvert_exporter": "python",
      "pygments_lexer": "ipython3",
      "version": "3.12.0"
    }
  },
  "nbformat": 4,
  "nbformat_minor": 0
}
