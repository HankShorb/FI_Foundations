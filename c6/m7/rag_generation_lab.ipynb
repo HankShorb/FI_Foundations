{
 "cells": [
  {
   "cell_type": "markdown",
   "metadata": {},
   "source": [
    "# Healthcare RAG System Lab\n",
    "## Overview\n",
    "\n",
    "In this lab, you'll take on the role of a junior data scientist at a healthcare technology company that specializes in creating educational resources for patients. Your team has been tasked with developing a system that can automatically generate informative responses to common patient questions about medical conditions, treatments, and wellness practices.\n",
    "\n",
    "The challenge is to ensure these responses are both accurate and grounded in authoritative medical information. Your specific assignment is to implement a Retrieval-Augmented Generation (RAG) system that can:\n",
    "1. Understand patient questions about various health topics\n",
    "2. Retrieve relevant information from a trusted knowledge base\n",
    "3. Generate helpful, accurate responses based on that information\n",
    "4. Avoid \"hallucinated\" content that could potentially misinform patients\n",
    "\n",
    "This lab follows the generative AI implementation process we've studied, with particular focus on:\n",
    "- Data Strategy and Knowledge Foundation\n",
    "- Model Selection and Generation Control\n",
    "- Evaluation Framework Development\n",
    "\n",
    "## Setup\n",
    "\n",
    "First, let's import the necessary libraries:"
   ]
  },
  {
   "cell_type": "code",
   "execution_count": 1,
   "metadata": {},
   "outputs": [
    {
     "name": "stdout",
     "output_type": "stream",
     "text": [
      "Using device: cpu\n"
     ]
    }
   ],
   "source": [
    "import torch\n",
    "import pandas as pd\n",
    "import numpy as np\n",
    "from transformers import AutoModelForCausalLM, AutoTokenizer\n",
    "from sentence_transformers import SentenceTransformer\n",
    "from sklearn.metrics.pairwise import cosine_similarity\n",
    "\n",
    "# Check if CUDA is available\n",
    "device = \"cuda\" if torch.cuda.is_available() else \"cpu\"\n",
    "print(f\"Using device: {device}\")"
   ]
  },
  {
   "cell_type": "markdown",
   "metadata": {},
   "source": [
    "## Part 1: Knowledge Base Setup\n",
    "\n",
    "Let's create a sample medical knowledge base with information about common health conditions, treatments, and wellness practices:"
   ]
  },
  {
   "cell_type": "code",
   "execution_count": 2,
   "metadata": {},
   "outputs": [
    {
     "name": "stdout",
     "output_type": "stream",
     "text": [
      "Knowledge base loaded with 10 entries\n"
     ]
    },
    {
     "data": {
      "text/html": [
       "<div>\n",
       "<style scoped>\n",
       "    .dataframe tbody tr th:only-of-type {\n",
       "        vertical-align: middle;\n",
       "    }\n",
       "\n",
       "    .dataframe tbody tr th {\n",
       "        vertical-align: top;\n",
       "    }\n",
       "\n",
       "    .dataframe thead th {\n",
       "        text-align: right;\n",
       "    }\n",
       "</style>\n",
       "<table border=\"1\" class=\"dataframe\">\n",
       "  <thead>\n",
       "    <tr style=\"text-align: right;\">\n",
       "      <th></th>\n",
       "      <th>content</th>\n",
       "      <th>metadata</th>\n",
       "    </tr>\n",
       "  </thead>\n",
       "  <tbody>\n",
       "    <tr>\n",
       "      <th>0</th>\n",
       "      <td>Diabetes is a chronic condition that affects h...</td>\n",
       "      <td>{'topic': 'diabetes', 'subtopic': 'overview', ...</td>\n",
       "    </tr>\n",
       "    <tr>\n",
       "      <th>1</th>\n",
       "      <td>Type 1 diabetes is an autoimmune reaction that...</td>\n",
       "      <td>{'topic': 'diabetes', 'subtopic': 'type1', 'so...</td>\n",
       "    </tr>\n",
       "  </tbody>\n",
       "</table>\n",
       "</div>"
      ],
      "text/plain": [
       "                                             content  \\\n",
       "0  Diabetes is a chronic condition that affects h...   \n",
       "1  Type 1 diabetes is an autoimmune reaction that...   \n",
       "\n",
       "                                            metadata  \n",
       "0  {'topic': 'diabetes', 'subtopic': 'overview', ...  \n",
       "1  {'topic': 'diabetes', 'subtopic': 'type1', 'so...  "
      ]
     },
     "execution_count": 2,
     "metadata": {},
     "output_type": "execute_result"
    }
   ],
   "source": [
    "# Create a sample medical knowledge base\n",
    "knowledge_base = pd.DataFrame({\n",
    "    'content': [\n",
    "        \"Diabetes is a chronic condition that affects how your body turns food into energy. There are three main types: Type 1, Type 2, and gestational diabetes. Type 2 diabetes is the most common form, accounting for about 90-95% of diabetes cases.\",\n",
    "        \"Type 1 diabetes is an autoimmune reaction that stops your body from making insulin. Symptoms include increased thirst, frequent urination, hunger, fatigue, and blurred vision. It's usually diagnosed in children, teens, and young adults.\",\n",
    "        \"Type 2 diabetes occurs when your body becomes resistant to insulin or doesn't make enough insulin. Risk factors include being overweight, being 45 years or older, having a parent or sibling with type 2 diabetes, and being physically active less than 3 times a week.\",\n",
    "        \"Managing diabetes involves monitoring blood sugar levels, taking medications as prescribed, eating a healthy diet, maintaining a healthy weight, and getting regular physical activity. It's important to work with healthcare providers to develop a management plan.\",\n",
    "        \"Hypertension, or high blood pressure, is when the force of blood pushing against the walls of your arteries is consistently too high. It's often called the 'silent killer' because it typically has no symptoms but significantly increases the risk of heart disease and stroke.\",\n",
    "        \"Blood pressure is measured using two numbers: systolic (top number) and diastolic (bottom number). Normal blood pressure is less than 120/80 mm Hg. Hypertension is diagnosed when readings are consistently 130/80 mm Hg or higher.\",\n",
    "        \"Lifestyle changes to manage hypertension include reducing sodium in your diet, getting regular physical activity, maintaining a healthy weight, limiting alcohol, quitting smoking, and managing stress. Medications may also be prescribed if lifestyle changes aren't enough.\",\n",
    "        \"Regular physical activity offers numerous health benefits, including weight management, reduced risk of heart disease, strengthened bones and muscles, improved mental health, and enhanced ability to perform daily activities. Adults should aim for at least 150 minutes of moderate-intensity activity per week.\",\n",
    "        \"A balanced diet should include a variety of fruits, vegetables, whole grains, lean proteins, and healthy fats. It's recommended to limit intake of added sugars, sodium, saturated fats, and processed foods. Proper nutrition helps prevent chronic diseases and supports overall health.\",\n",
    "        \"Vaccination is one of the most effective ways to prevent infectious diseases. Vaccines work by helping the body recognize and fight specific pathogens. Common adult vaccines include influenza (flu), Tdap (tetanus, diphtheria, pertussis), shingles, and pneumococcal vaccines.\"\n",
    "    ],\n",
    "    'metadata': [\n",
    "        {'topic': 'diabetes', 'subtopic': 'overview', 'source': 'medical_guidelines', 'last_updated': '2023-06-10'},\n",
    "        {'topic': 'diabetes', 'subtopic': 'type1', 'source': 'medical_guidelines', 'last_updated': '2023-06-10'},\n",
    "        {'topic': 'diabetes', 'subtopic': 'type2', 'source': 'medical_guidelines', 'last_updated': '2023-06-10'},\n",
    "        {'topic': 'diabetes', 'subtopic': 'management', 'source': 'medical_guidelines', 'last_updated': '2023-06-10'},\n",
    "        {'topic': 'hypertension', 'subtopic': 'overview', 'source': 'medical_guidelines', 'last_updated': '2023-07-22'},\n",
    "        {'topic': 'hypertension', 'subtopic': 'diagnosis', 'source': 'medical_guidelines', 'last_updated': '2023-07-22'},\n",
    "        {'topic': 'hypertension', 'subtopic': 'management', 'source': 'medical_guidelines', 'last_updated': '2023-07-22'},\n",
    "        {'topic': 'wellness', 'subtopic': 'physical_activity', 'source': 'health_promotion', 'last_updated': '2023-05-15'},\n",
    "        {'topic': 'wellness', 'subtopic': 'nutrition', 'source': 'health_promotion', 'last_updated': '2023-05-15'},\n",
    "        {'topic': 'prevention', 'subtopic': 'vaccination', 'source': 'medical_guidelines', 'last_updated': '2023-08-05'}\n",
    "    ]\n",
    "})\n",
    "\n",
    "print(f\"Knowledge base loaded with {len(knowledge_base)} entries\")\n",
    "knowledge_base.head(2)"
   ]
  },
  {
   "cell_type": "markdown",
   "metadata": {},
   "source": [
    "### Task 1: Create Document Embeddings\n",
    "\n",
    "Complete the function below to create embeddings for each document in the knowledge base. These embeddings will be used to find relevant documents based on patient queries."
   ]
  },
  {
   "cell_type": "code",
   "execution_count": 3,
   "metadata": {},
   "outputs": [
    {
     "data": {
      "application/vnd.jupyter.widget-view+json": {
       "model_id": "c2d50734ad794ebf83998ac607ce62e8",
       "version_major": 2,
       "version_minor": 0
      },
      "text/plain": [
       "Batches:   0%|          | 0/1 [00:00<?, ?it/s]"
      ]
     },
     "metadata": {},
     "output_type": "display_data"
    },
    {
     "name": "stdout",
     "output_type": "stream",
     "text": [
      "Generated embeddings with shape: (10, 768)\n"
     ]
    }
   ],
   "source": [
    "def create_document_embeddings(documents):\n",
    "    \"\"\"\n",
    "    Create embeddings for a list of documents.\n",
    "    \n",
    "    Args:\n",
    "        documents: List of text documents to embed\n",
    "        \n",
    "    Returns:\n",
    "        Numpy array of document embeddings\n",
    "    \"\"\"\n",
    "    # Initialize a sentence transformer model\n",
    "    # Recommended: 'sentence-transformers/all-mpnet-base-v2' or similar\n",
    "    embedding_model = SentenceTransformer('sentence-transformers/all-mpnet-base-v2')  # Replace with your code\n",
    "    \n",
    "    # Generate embeddings for all documents\n",
    "    # Hint: Use the model.encode() method\n",
    "    document_embeddings = embedding_model.encode(knowledge_base['content'].tolist(), \n",
    "                                            show_progress_bar=True)  # Replace with your code\n",
    "    \n",
    "    return document_embeddings\n",
    "\n",
    "# Extract document content\n",
    "documents = knowledge_base['content'].tolist()\n",
    "\n",
    "# Create document embeddings\n",
    "document_embeddings = create_document_embeddings(documents)\n",
    "\n",
    "# Verify the shape of embeddings\n",
    "if document_embeddings is not None:\n",
    "    print(f\"Generated embeddings with shape: {document_embeddings.shape}\")\n",
    "else:\n",
    "    print(\"Embeddings not created yet.\")"
   ]
  },
  {
   "cell_type": "markdown",
   "metadata": {},
   "source": [
    "## Part 2: Implementing the Retrieval Component\n",
    "\n",
    "Now, let's implement the function to retrieve relevant documents based on a patient query."
   ]
  },
  {
   "cell_type": "code",
   "execution_count": 4,
   "metadata": {},
   "outputs": [
    {
     "name": "stdout",
     "output_type": "stream",
     "text": [
      "Query: What are the symptoms of Type 1 diabetes?\n",
      "\n",
      "Retrieved Documents:\n",
      "1. [0.7585] Type 1 diabetes is an autoimmune reaction that stops your body from making insulin. Symptoms include...\n",
      "   Topic: diabetes, Subtopic: type1\n",
      "2. [0.4625] Diabetes is a chronic condition that affects how your body turns food into energy. There are three m...\n",
      "   Topic: diabetes, Subtopic: overview\n"
     ]
    }
   ],
   "source": [
    "def retrieve_documents(query, embeddings, contents, metadata, top_k=3, threshold=0.3):\n",
    "    \"\"\"\n",
    "    Retrieve the most relevant documents for a given query.\n",
    "    \n",
    "    Args:\n",
    "        query: The patient's question\n",
    "        embeddings: The precomputed document embeddings\n",
    "        contents: The text content of the documents\n",
    "        metadata: The metadata for each document\n",
    "        top_k: Maximum number of documents to retrieve\n",
    "        threshold: Minimum similarity score to include a document\n",
    "        \n",
    "    Returns:\n",
    "        List of (content, metadata, similarity_score) tuples\n",
    "    \"\"\"\n",
    "    # Get or initialize the embedding model (same as in create_document_embeddings)\n",
    "    embedding_model = SentenceTransformer('sentence-transformers/all-mpnet-base-v2')  # Replace with your code\n",
    "    \n",
    "    # Embed the query\n",
    "    query_embedding = embedding_model.encode([query])[0]  # Replace with your code\n",
    "    \n",
    "    # Calculate similarity scores between query and all documents\n",
    "    # Hint: Use cosine_similarity\n",
    "    similarities = cosine_similarity([query_embedding], embeddings)[0]  # Replace with your code\n",
    "    \n",
    "    # Filter by threshold and get top k results\n",
    "    # Hint: Use list comprehension, sorting, and slicing\n",
    "    filtered_indices = [i for i, score in enumerate(similarities) if score >= threshold]\n",
    "    top_indices = sorted(filtered_indices, key=lambda i: similarities[i], reverse=True)[:top_k]\n",
    "    \n",
    "    # Return the top documents with their metadata and scores\n",
    "    results = [(contents[i], metadata[i], similarities[i]) for i in top_indices]  # Replace with your code\n",
    "    \n",
    "    return results\n",
    "\n",
    "# Test the retrieval function with a sample query\n",
    "if document_embeddings is not None:\n",
    "    sample_query = \"What are the symptoms of Type 1 diabetes?\"\n",
    "    retrieved_docs = retrieve_documents(\n",
    "        query=sample_query,\n",
    "        embeddings=document_embeddings,\n",
    "        contents=documents,\n",
    "        metadata=knowledge_base['metadata'].tolist(),\n",
    "        top_k=2\n",
    "    )\n",
    "    \n",
    "    print(f\"Query: {sample_query}\")\n",
    "    print(\"\\nRetrieved Documents:\")\n",
    "    for i, (content, meta, score) in enumerate(retrieved_docs):\n",
    "        print(f\"{i+1}. [{score:.4f}] {content[:100]}...\")\n",
    "        print(f\"   Topic: {meta['topic']}, Subtopic: {meta['subtopic']}\")\n",
    "else:\n",
    "    print(\"Cannot test retrieval without document embeddings.\")"
   ]
  },
  {
   "cell_type": "markdown",
   "metadata": {},
   "source": [
    "## Part 3: Building the Generation Component\n",
    "\n",
    "Now, let's implement the generation component that will use the retrieved documents to create informative responses."
   ]
  },
  {
   "cell_type": "code",
   "execution_count": 5,
   "metadata": {},
   "outputs": [
    {
     "name": "stdout",
     "output_type": "stream",
     "text": [
      "Initialized gpt2 with 124439808 parameters\n"
     ]
    }
   ],
   "source": [
    "# Initialize the generative model\n",
    "def initialize_generator(model_name=\"gpt2\"):\n",
    "    \"\"\"\n",
    "    Initialize the generative model and tokenizer.\n",
    "    \n",
    "    Args:\n",
    "        model_name: Name of the pretrained model to use\n",
    "        \n",
    "    Returns:\n",
    "        Tokenizer and model objects\n",
    "    \"\"\"\n",
    "    # Load the tokenizer and model\n",
    "    tokenizer = AutoTokenizer.from_pretrained(model_name)  # Replace with your code\n",
    "    model = AutoModelForCausalLM.from_pretrained(model_name)  # Replace with your code\n",
    "    \n",
    "    # Set padding token if needed\n",
    "    # Check if pad_token exists, if not set it to eos_token\n",
    "    if tokenizer.pad_token is None:\n",
    "        tokenizer.pad_token = tokenizer.eos_token\n",
    "    \n",
    "    return tokenizer, model\n",
    "\n",
    "# Initialize the generator\n",
    "tokenizer, model = initialize_generator()\n",
    "if tokenizer and model:\n",
    "    print(f\"Initialized {model.config._name_or_path} with {model.num_parameters()} parameters\")"
   ]
  },
  {
   "cell_type": "code",
   "execution_count": 6,
   "metadata": {},
   "outputs": [
    {
     "name": "stdout",
     "output_type": "stream",
     "text": [
      "\n",
      "Query: What are the different types of diabetes?\n",
      "\n",
      "Retrieved Documents:\n",
      "1. [0.7130] Topic: diabetes, Subtopic: overview\n",
      "2. [0.6430] Topic: diabetes, Subtopic: type1\n",
      "\n",
      "Generated Response:\n",
      "Type 1 diabetes is a chronic condition that affects how your body turns food into energy. There are three main types: Type 1, Type 2, and gestational diabetes. Type 2 diabetes is the most common form, accounting for about 90-95% of diabetes cases. Type 1 diabetes is a autoimmune reaction that stops your body from making insulin. Symptoms include increased thirst, frequent urination, hunger, fatigue, and blurred vision. It's usually diagnosed in children, teens, and young adults. Type\n",
      "--------------------------------------------------------------------------------\n",
      "\n",
      "Query: How can I manage my high blood pressure through lifestyle changes?\n",
      "\n",
      "Retrieved Documents:\n",
      "1. [0.7775] Topic: hypertension, Subtopic: management\n",
      "2. [0.4690] Topic: hypertension, Subtopic: overview\n",
      "\n",
      "Generated Response:\n",
      "If you're not getting enough exercise and exercise is not being done regularly, your blood pressure may be too high. If you're getting enough sleep, you may be getting too much blood sugar. If your blood sugar is high, you may be having an elevated heart rate, heart attack or stroke.\n",
      "\n",
      "This is one of the major factors that can lead to hypertension.\n",
      "\n",
      "The other is the stress of being in a job where you're required to carry a lot of weight.\n",
      "--------------------------------------------------------------------------------\n",
      "\n",
      "Query: Why is regular physical activity important for health?\n",
      "\n",
      "Retrieved Documents:\n",
      "1. [0.7906] Topic: wellness, Subtopic: physical_activity\n",
      "2. [0.3873] Topic: wellness, Subtopic: nutrition\n",
      "\n",
      "Generated Response:\n",
      "Regular physical activity is a good way to improve physical health. In fact, it's the most effective way to improve your overall physical health.\n",
      "\n",
      "When you are in the habit of exercising, you need to be aware of your physical health. If you are not exercising regularly, you may not be getting the health benefits you need.\n",
      "\n",
      "Exercise helps to improve your physical health, but it is not always the best way to do it. Many people think of exercise as a form of exercise\n",
      "--------------------------------------------------------------------------------\n",
      "\n",
      "Query: What vaccines should adults consider getting?\n",
      "\n",
      "Retrieved Documents:\n",
      "1. [0.6329] Topic: prevention, Subtopic: vaccination\n",
      "\n",
      "Generated Response:\n",
      "If you are not sure, ask your doctor.\n",
      "\n",
      "Do you have any questions about your vaccination schedule?\n",
      "\n",
      "Check with your doctor or pharmacist to make sure you are on schedule.\n",
      "\n",
      "What do I do if I am not vaccinated?\n",
      "\n",
      "Your doctor or pharmacist will advise you of any medical conditions that might be causing your illness.\n",
      "\n",
      "Are my vaccines safe?\n",
      "\n",
      "No. Vaccines do not cause serious medical problems.\n",
      "\n",
      "What happens if I am not\n",
      "--------------------------------------------------------------------------------\n"
     ]
    }
   ],
   "source": [
    "def generate_rag_response(query, contents, metadata, document_embeddings, tokenizer, model, max_length=100):\n",
    "    \"\"\"\n",
    "    Generate a response using Retrieval-Augmented Generation.\n",
    "    \n",
    "    Args:\n",
    "        query: The patient's question\n",
    "        contents: List of document contents\n",
    "        metadata: List of document metadata\n",
    "        document_embeddings: Precomputed embeddings for the documents\n",
    "        tokenizer: The tokenizer for the language model\n",
    "        model: The language model for generation\n",
    "        max_length: Maximum response length\n",
    "        \n",
    "    Returns:\n",
    "        Dictionary with the generated response and the retrieved documents\n",
    "    \"\"\"\n",
    "    # Retrieve relevant documents for the query\n",
    "    retrieved_docs = retrieve_documents(\n",
    "        query, \n",
    "        document_embeddings, \n",
    "        contents, \n",
    "        metadata, \n",
    "        top_k=2\n",
    "    )  # Replace with your code\n",
    "    \n",
    "    # Format prompt with retrieved context\n",
    "    # Hint: If no relevant documents are found, generate without context\n",
    "    # Otherwise, include retrieved documents as context\n",
    "    if not retrieved_docs:\n",
    "        # If no relevant documents found, generate without context\n",
    "        prompt = f\"Question: {query}\\nAnswer:\"\n",
    "    else:\n",
    "        # Format prompt with retrieved context\n",
    "        context = \"\\n\".join([f\"- {doc[0]}\" for doc in retrieved_docs])\n",
    "        prompt = f\"Context information:\\n{context}\\n\\nQuestion: {query}\\nAnswer:\"\n",
    "    \n",
    "    # Tokenize the prompt\n",
    "    inputs = tokenizer(prompt, return_tensors=\"pt\", padding=True)  # Replace with your code\n",
    "    \n",
    "    # TGenerate the response\n",
    "    # Consider including temperature, top_k, and do_sample parameters (will otherwise use greedy method)\n",
    "    with torch.no_grad():\n",
    "        output_sequences = model.generate(\n",
    "            input_ids=inputs[\"input_ids\"],\n",
    "            attention_mask=inputs[\"attention_mask\"],\n",
    "            max_length=len(inputs[\"input_ids\"][0]) + max_length,\n",
    "            temperature=0.7,\n",
    "            top_p=0.9,\n",
    "            do_sample=True,\n",
    "            pad_token_id=tokenizer.pad_token_id\n",
    "        )\n",
    "    \n",
    "    # Decode the response and extract the generated text\n",
    "    response = tokenizer.decode(output_sequences[0], skip_special_tokens=True)\n",
    "    response = response.replace(prompt, \"\").strip()\n",
    "    \n",
    "    # Return the results\n",
    "    return {\n",
    "        \"query\": query,\n",
    "        \"response\": response,\n",
    "        \"retrieved_documents\": retrieved_docs\n",
    "    }\n",
    "\n",
    "# Test the RAG system with several queries\n",
    "if document_embeddings is not None and tokenizer and model:\n",
    "    test_queries = [\n",
    "        \"What are the different types of diabetes?\",\n",
    "        \"How can I manage my high blood pressure through lifestyle changes?\",\n",
    "        \"Why is regular physical activity important for health?\",\n",
    "        \"What vaccines should adults consider getting?\"\n",
    "    ]\n",
    "    \n",
    "    for query in test_queries:\n",
    "        print(f\"\\nQuery: {query}\")\n",
    "        result = generate_rag_response(\n",
    "            query=query,\n",
    "            contents=documents,\n",
    "            metadata=knowledge_base['metadata'].tolist(),\n",
    "            document_embeddings=document_embeddings,\n",
    "            tokenizer=tokenizer,\n",
    "            model=model\n",
    "        )\n",
    "        \n",
    "        print(\"\\nRetrieved Documents:\")\n",
    "        for i, (doc, meta, score) in enumerate(result[\"retrieved_documents\"]):\n",
    "            print(f\"{i+1}. [{score:.4f}] Topic: {meta['topic']}, Subtopic: {meta['subtopic']}\")\n",
    "        \n",
    "        print(f\"\\nGenerated Response:\\n{result['response']}\")\n",
    "        print(\"-\" * 80)\n",
    "else:\n",
    "    print(\"Cannot test generation without embeddings or model.\")"
   ]
  },
  {
   "cell_type": "markdown",
   "metadata": {},
   "source": [
    "## Part 4: Evaluation and Analysis\n",
    "\n",
    "Let's implement a basic evaluation function to assess the quality of our generated responses."
   ]
  },
  {
   "cell_type": "code",
   "execution_count": 7,
   "metadata": {},
   "outputs": [
    {
     "name": "stdout",
     "output_type": "stream",
     "text": [
      "Query: What are the different types of diabetes?\n",
      "Evaluation Metrics: {'content_overlap': 1.0, 'length_score': 1.0, 'overall_score': 1.0}\n",
      "--------------------------------------------------------------------------------\n",
      "Query: How can I manage my high blood pressure through lifestyle changes?\n",
      "Evaluation Metrics: {'content_overlap': 1.0, 'length_score': 1.0, 'overall_score': 1.0}\n",
      "--------------------------------------------------------------------------------\n",
      "Query: Why is regular physical activity important for health?\n",
      "Evaluation Metrics: {'content_overlap': 1.0, 'length_score': 1.0, 'overall_score': 1.0}\n",
      "--------------------------------------------------------------------------------\n",
      "Query: What vaccines should adults consider getting?\n",
      "Evaluation Metrics: {'content_overlap': 1.0, 'length_score': 1.0, 'overall_score': 1.0}\n",
      "--------------------------------------------------------------------------------\n"
     ]
    }
   ],
   "source": [
    "def evaluate_response(response_data):\n",
    "    \"\"\"\n",
    "    Evaluate the quality of a generated response based on various criteria.\n",
    "    \n",
    "    Args:\n",
    "        response_data: Dictionary containing the query, response, and retrieved docs\n",
    "        \n",
    "    Returns:\n",
    "        Evaluation metrics\n",
    "    \"\"\"\n",
    "    # Implement at least two evaluation metrics\n",
    "    # Suggestions:\n",
    "    # 1. Content relevance - Check if response mentions terms from retrieved docs\n",
    "    # 2. Response length appropriateness - Check if length is suitable for query\n",
    "    # 3. Medical terminology usage - Check if appropriate medical terms are included\n",
    "    medical_terms = [\n",
    "        \"diabetes\", \"insulin\", \"glucose\", \"hypertension\", \"blood pressure\",\n",
    "        \"systolic\", \"diastolic\", \"cardiovascular\", \"cholesterol\", \"nutrition\",\n",
    "        \"obesity\", \"physical activity\", \"vaccination\", \"immune\", \"prevention\"\n",
    "    ]\n",
    "     \n",
    "    retrieved_content = [doc[0].lower() for doc in response_data[\"retrieved_documents\"]]\n",
    "    response_lower = response_data[\"response\"].lower()\n",
    "\n",
    "    # Simple content overlap check\n",
    "    content_overlap = sum(1 for doc in retrieved_content if any(\n",
    "        term in response_lower for term in doc.split()[:5]\n",
    "    )) / max(1, len(retrieved_content))\n",
    "\n",
    "    # Length appropriateness (simple heuristic)\n",
    "    query_words = len(response_data[\"query\"].split())\n",
    "    response_words = len(response_data[\"response\"].split())\n",
    "    length_score = min(1.0, response_words / (query_words * 3))\n",
    "\n",
    "    metrics = {}\n",
    "    metrics['content_overlap'] = content_overlap\n",
    "    metrics['length_score'] = length_score\n",
    "    metrics['overall_score'] = (content_overlap + length_score) / 2\n",
    "    \n",
    "    return metrics\n",
    "\n",
    "# Evaluate the responses for our test queries\n",
    "if 'test_queries' in locals() and document_embeddings is not None and tokenizer and model:\n",
    "    for query in test_queries:\n",
    "        result = generate_rag_response(\n",
    "            query=query,\n",
    "            contents=documents,\n",
    "            metadata=knowledge_base['metadata'].tolist(),\n",
    "            document_embeddings=document_embeddings,\n",
    "            tokenizer=tokenizer,\n",
    "            model=model\n",
    "        )\n",
    "        \n",
    "        metrics = evaluate_response(result)\n",
    "        print(f\"Query: {query}\")\n",
    "        print(f\"Evaluation Metrics: {metrics}\")\n",
    "        print(\"-\" * 80)\n",
    "else:\n",
    "    print(\"Cannot evaluate without test queries or necessary components.\")"
   ]
  },
  {
   "cell_type": "markdown",
   "metadata": {},
   "source": [
    "## Reflection Questions\n",
    "\n",
    "Answer the following questions about your RAG implementation and its potential applications in healthcare:\n",
    "\n",
    "### How does the RAG approach improve factual accuracy compared to regular generation?"
   ]
  },
  {
   "cell_type": "markdown",
   "metadata": {},
   "source": [
    "A standard language model generates answers purely from its trained parameters, which may include outdated or incomplete knowledge, leading to factual errors. RAG improves accuracy by combining generation with retrieval. Before answering, it queries an external knowledge source (for example a database or document collection) and retrieves the most relevant passages. The model then conditions its response on this fresh, context-specific information. This reduces hallucination, grounds outputs in verifiable sources, and allows updates without retraining the model."
   ]
  },
  {
   "cell_type": "markdown",
   "metadata": {},
   "source": [
    "### What are potential challenges or limitations of your current implementation?"
   ]
  },
  {
   "cell_type": "markdown",
   "metadata": {},
   "source": [
    "Though the RAG approach helps reduce hallucinations, it does not guarantee that the model will never hallucinate in its responses. Finding ways to monitor model output and iteratively improve on hallucinations would be crucial in this context where the model is providing medical information to patients who will likely act on that information."
   ]
  },
  {
   "cell_type": "markdown",
   "metadata": {},
   "source": [
    "### How might you enhance this system for a production healthcare environment?"
   ]
  },
  {
   "cell_type": "markdown",
   "metadata": {},
   "source": [
    "Using a more up to date model and fine tuning that model for medical context would both be beneficial for model performance and reducing hallucinations in a prodcution environment. Contunuing to engineer the prompt (through restructuring and few shot inference for example) to optimize model output would also be impactful for model performance in production. Lastly I would consider setting up some sort of monitoring system to ensure model performance and allow for informed iteration on the model in the future."
   ]
  },
  {
   "cell_type": "markdown",
   "metadata": {},
   "source": [
    "### What ethical considerations are particularly important for healthcare content generation?"
   ]
  },
  {
   "cell_type": "markdown",
   "metadata": {},
   "source": [
    "In this context we are particularly concered with the factual accuracy of the model responses and with representing this information as AI generated and potentially inaccurate. We want to ensure that patients are given factual information or at least aware that the information they are receiving should be verified."
   ]
  }
 ],
 "metadata": {
  "kernelspec": {
   "display_name": "ml-env",
   "language": "python",
   "name": "python3"
  },
  "language_info": {
   "codemirror_mode": {
    "name": "ipython",
    "version": 3
   },
   "file_extension": ".py",
   "mimetype": "text/x-python",
   "name": "python",
   "nbconvert_exporter": "python",
   "pygments_lexer": "ipython3",
   "version": "3.12.0"
  }
 },
 "nbformat": 4,
 "nbformat_minor": 2
}
