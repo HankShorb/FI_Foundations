{
  "cells": [
    {
      "cell_type": "markdown",
      "metadata": {
        "id": "9YWzyTgKr25d"
      },
      "source": [
        "# Technical Lesson: Computer Vision with Convolutional Neural Networks"
      ]
    },
    {
      "cell_type": "markdown",
      "metadata": {
        "id": "PtofxOtCtPr3"
      },
      "source": [
        "## Part 1: Libraries & Preprocessing the Data"
      ]
    },
    {
      "cell_type": "markdown",
      "metadata": {
        "id": "2WsjViI1sKso"
      },
      "source": [
        "### Step 1: Loading libraries"
      ]
    },
    {
      "cell_type": "markdown",
      "metadata": {
        "id": "Qbo7-QIaliwY"
      },
      "source": [
        "We'll start by loading some of the typical packages from `numpy`, `pandas`, and `sklearn`. Then we'll import a few of the necessary functions from `tensorflow` and `keras`.\n",
        "\n",
        "These use the same classes and functions as we have seen before with a few new additions.\n",
        "`Conv2D` is convolutional layers for 2-dimensional data such as images, and `MaxPooling2D` is a max-pooling layer.\n",
        "We'll also use the `Flatten` layer which reshapes a 2-dimensional image into a vector."
      ]
    },
    {
      "cell_type": "code",
      "execution_count": 1,
      "metadata": {
        "id": "B9vjN0l2liwZ"
      },
      "outputs": [],
      "source": [
        "import pandas as pd\n",
        "import numpy as np\n",
        "import matplotlib as mpl\n",
        "import matplotlib.pyplot as plt\n",
        "from sklearn.metrics import accuracy_score\n",
        "from sklearn.model_selection import train_test_split\n",
        "\n",
        "# TensorFlow / Keras functions\n",
        "import tensorflow as tf\n",
        "from tensorflow import keras\n",
        "from tensorflow.keras import Sequential\n",
        "from tensorflow.keras.layers import Dense, Conv2D, Flatten, MaxPooling2D\n",
        "from tensorflow.keras.datasets import mnist\n",
        "from tensorflow.keras.utils import to_categorical"
      ]
    },
    {
      "cell_type": "markdown",
      "metadata": {
        "id": "nZNuJ7PVliwa"
      },
      "source": [
        "### Step 2: Load data\n"
      ]
    },
    {
      "cell_type": "markdown",
      "metadata": {
        "id": "31lwvU7ksQd7"
      },
      "source": [
        "We'll use the MNIST handwritten image dataset for this exercise. This dataset consists of 70,000 images.\n",
        "The following function downloads and loads the data as training and testing sets (60k, 10k)."
      ]
    },
    {
      "cell_type": "code",
      "execution_count": 2,
      "metadata": {
        "colab": {
          "base_uri": "https://localhost:8080/"
        },
        "id": "XIBiqVYqliwa",
        "outputId": "cabed9b5-6afa-466d-f620-0867915cc2a9"
      },
      "outputs": [
        {
          "name": "stdout",
          "output_type": "stream",
          "text": [
            "(60000, 28, 28) (10000, 28, 28) (60000,) (10000,)\n"
          ]
        }
      ],
      "source": [
        "(X_train, y_train), (X_test, y_test) = mnist.load_data()\n",
        "\n",
        "# dimensions\n",
        "print(X_train.shape, X_test.shape, y_train.shape, y_test.shape)"
      ]
    },
    {
      "cell_type": "markdown",
      "metadata": {
        "id": "G9LxZTQttggJ"
      },
      "source": [
        "### Step 3: Training Set"
      ]
    },
    {
      "cell_type": "markdown",
      "metadata": {
        "id": "xcm8sXQLliwa"
      },
      "source": [
        "Because the purpose of this lesson is to learn how to train CNNs and not to achieve the best digit classifier, we're going to use only a subset of the original data.\n",
        "This will allow us to train models faster, and experiment with different structures.\n",
        "\n",
        "The following code creates a new training set of only 10,000 images (1,000 for each digit) using the `train_test_split` function. Since we already have a test set, we'll just throw out the test set returned by this function. The underscores, `_`, tell Python not to assign the test sets to a variable."
      ]
    },
    {
      "cell_type": "code",
      "execution_count": 3,
      "metadata": {
        "colab": {
          "base_uri": "https://localhost:8080/"
        },
        "id": "fNtxZor7liwa",
        "outputId": "a0b1bf2b-0128-4e4d-99ce-a1ee0ea589c3"
      },
      "outputs": [
        {
          "name": "stdout",
          "output_type": "stream",
          "text": [
            "(10000, 28, 28) (10000, 28, 28) (10000,) (10000,)\n"
          ]
        }
      ],
      "source": [
        "X_train, _, y_train, _ = train_test_split(X_train, y_train, train_size=10000, stratify=y_train)\n",
        "\n",
        "print(X_train.shape, X_test.shape, y_train.shape, y_test.shape)"
      ]
    },
    {
      "cell_type": "markdown",
      "metadata": {
        "id": "j93Emys9tkNA"
      },
      "source": [
        "### Step 4: One-hot-encoded vectors"
      ]
    },
    {
      "cell_type": "markdown",
      "metadata": {
        "id": "sNRWBO13liwa"
      },
      "source": [
        "The last preprocessing step is to convert the response variable from a vector of digits, to a set of one-hot-encoded vectors for each digit. This is like creating dummy variables for each response variable, and is required to train multiclass classification models in TensorFlow.\n",
        "\n",
        "For example if the digit is a \"0\" the response vector we will try to predict is actually [1, 0, 0, 0, 0, 0, 0, 0, 0, 0]\n",
        "\n",
        "If it was a \"3\" we would try to predict [0, 0, 0, 1, 0, 0, 0, 0, 0, 0]."
      ]
    },
    {
      "cell_type": "code",
      "execution_count": 4,
      "metadata": {
        "colab": {
          "base_uri": "https://localhost:8080/"
        },
        "id": "vnbBRVXsliwa",
        "outputId": "a0658195-cfd1-40c0-e498-a0dfb24c9378"
      },
      "outputs": [
        {
          "name": "stdout",
          "output_type": "stream",
          "text": [
            "Example Y variable before transformation: 7\n",
            "Example Y variable after transformation: [0. 0. 0. 0. 0. 0. 0. 1. 0. 0.]\n"
          ]
        }
      ],
      "source": [
        "print('Example Y variable before transformation:', y_train[0])\n",
        "y_train = to_categorical(y_train)\n",
        "y_test = to_categorical(y_test)\n",
        "print('Example Y variable after transformation:', y_train[0])"
      ]
    },
    {
      "cell_type": "markdown",
      "metadata": {
        "id": "NSz5tSaNto1d"
      },
      "source": [
        "### Step 5: 4-D Array"
      ]
    },
    {
      "cell_type": "markdown",
      "metadata": {
        "id": "kzXPg5a7liwb"
      },
      "source": [
        "The last preprocessing step we need is make our images a 4 dimensional array: the 1st dimension is for the number of images, the 2nd and 3rd are for the width and height of the images, and the 4th is for the number of channels (1 for grayscale, 3 for color).\n",
        "\n",
        "This is the required format for the convolutional layer."
      ]
    },
    {
      "cell_type": "code",
      "execution_count": 5,
      "metadata": {
        "id": "GyLwc25Jliwb"
      },
      "outputs": [],
      "source": [
        "# (number of images, width, height, depth)\n",
        "X_train = X_train.reshape(10000, 28, 28, 1)\n",
        "X_test = X_test.reshape(10000, 28, 28, 1)"
      ]
    },
    {
      "cell_type": "markdown",
      "metadata": {
        "id": "6WY9zfD4liwb"
      },
      "source": [
        "## Part 2: Model 1"
      ]
    },
    {
      "cell_type": "markdown",
      "metadata": {
        "id": "7DOV4MPyt59S"
      },
      "source": [
        "### Step 5: Model 1- CNN with 1 convolutional layer and 1 pooling layer"
      ]
    },
    {
      "cell_type": "markdown",
      "metadata": {
        "id": "w5uQp4Yrsbda"
      },
      "source": [
        "Let's fit a CNN with the folling structure\n",
        " - 1 convolutional layer with:\n",
        "     - 16 filters (neurons)\n",
        "     - a window size of 3\n",
        "     - stride size of 1\n",
        "     - ReLU activation function\n",
        "     - padding so that the feature is the same size as the original image\n",
        " - 1 max pooling layer with:\n",
        "     - window size of 2\n",
        "     - stride size of 2\n",
        "     - no padding\n",
        " - 1 fully connected output layer with:\n",
        "     - 10 nodes for each digit to predict\n",
        "     - softmax activation function\n",
        "\n",
        "The following code creates this model using Keras"
      ]
    },
    {
      "cell_type": "code",
      "execution_count": 6,
      "metadata": {
        "colab": {
          "base_uri": "https://localhost:8080/"
        },
        "id": "IpAPpcQiliwb",
        "outputId": "2a0fbe28-6777-4edb-9913-ac3daefc8761"
      },
      "outputs": [
        {
          "name": "stderr",
          "output_type": "stream",
          "text": [
            "/opt/anaconda3/envs/ml-env/lib/python3.12/site-packages/keras/src/layers/convolutional/base_conv.py:113: UserWarning: Do not pass an `input_shape`/`input_dim` argument to a layer. When using Sequential models, prefer using an `Input(shape)` object as the first layer in the model instead.\n",
            "  super().__init__(activity_regularizer=activity_regularizer, **kwargs)\n"
          ]
        }
      ],
      "source": [
        "model1 = Sequential()\n",
        "model1.add(Conv2D(16, kernel_size=3, activation='relu',\n",
        "                 padding='same', input_shape=(28,28,1)))\n",
        "model1.add(MaxPooling2D(pool_size=(2, 2), strides=2))\n",
        "model1.add(Flatten())\n",
        "model1.add(Dense(10, activation='softmax'))"
      ]
    },
    {
      "cell_type": "markdown",
      "metadata": {
        "id": "aEyTHajNliwb"
      },
      "source": [
        "The `kernel_size` parameter specifies the filter or window size, and can be an integer like `3` or the actual window size like `(3,3)`. The `pool_size` is a similar parameter for the pooling layer. The `input_shape` tells the model the format of the images (width, height, depth). Depth is just 1 because these are grayscale images, but it would be 3 for color images (RGB).  \n",
        "\n",
        "By specifying `padding='same'`, the output feature image will have the same size as the image passed to that layer. If we left this out, the default behavior returns a smaller image.\n",
        "\n",
        "We used a `strides` parameter for the pooling layer, but by default it is 1.\n",
        "\n",
        "The `Flatten` layer reshapes the image so that it is a flat vector to pass to the fully connected layer."
      ]
    },
    {
      "cell_type": "markdown",
      "metadata": {
        "id": "5oOgtTq3uGim"
      },
      "source": [
        "### Step 6: Summary"
      ]
    },
    {
      "cell_type": "markdown",
      "metadata": {
        "id": "KjRFSMhouLfE"
      },
      "source": [
        "Next, let's print a summary of the model:"
      ]
    },
    {
      "cell_type": "code",
      "execution_count": 7,
      "metadata": {
        "colab": {
          "base_uri": "https://localhost:8080/",
          "height": 257
        },
        "id": "YOHPNL6bliwb",
        "outputId": "a95593bf-264f-4214-ea97-f0f90f8c729b"
      },
      "outputs": [
        {
          "data": {
            "text/html": [
              "<pre style=\"white-space:pre;overflow-x:auto;line-height:normal;font-family:Menlo,'DejaVu Sans Mono',consolas,'Courier New',monospace\"><span style=\"font-weight: bold\">Model: \"sequential\"</span>\n",
              "</pre>\n"
            ],
            "text/plain": [
              "\u001b[1mModel: \"sequential\"\u001b[0m\n"
            ]
          },
          "metadata": {},
          "output_type": "display_data"
        },
        {
          "data": {
            "text/html": [
              "<pre style=\"white-space:pre;overflow-x:auto;line-height:normal;font-family:Menlo,'DejaVu Sans Mono',consolas,'Courier New',monospace\">┏━━━━━━━━━━━━━━━━━━━━━━━━━━━━━━━━━┳━━━━━━━━━━━━━━━━━━━━━━━━┳━━━━━━━━━━━━━━━┓\n",
              "┃<span style=\"font-weight: bold\"> Layer (type)                    </span>┃<span style=\"font-weight: bold\"> Output Shape           </span>┃<span style=\"font-weight: bold\">       Param # </span>┃\n",
              "┡━━━━━━━━━━━━━━━━━━━━━━━━━━━━━━━━━╇━━━━━━━━━━━━━━━━━━━━━━━━╇━━━━━━━━━━━━━━━┩\n",
              "│ conv2d (<span style=\"color: #0087ff; text-decoration-color: #0087ff\">Conv2D</span>)                 │ (<span style=\"color: #00d7ff; text-decoration-color: #00d7ff\">None</span>, <span style=\"color: #00af00; text-decoration-color: #00af00\">28</span>, <span style=\"color: #00af00; text-decoration-color: #00af00\">28</span>, <span style=\"color: #00af00; text-decoration-color: #00af00\">16</span>)     │           <span style=\"color: #00af00; text-decoration-color: #00af00\">160</span> │\n",
              "├─────────────────────────────────┼────────────────────────┼───────────────┤\n",
              "│ max_pooling2d (<span style=\"color: #0087ff; text-decoration-color: #0087ff\">MaxPooling2D</span>)    │ (<span style=\"color: #00d7ff; text-decoration-color: #00d7ff\">None</span>, <span style=\"color: #00af00; text-decoration-color: #00af00\">14</span>, <span style=\"color: #00af00; text-decoration-color: #00af00\">14</span>, <span style=\"color: #00af00; text-decoration-color: #00af00\">16</span>)     │             <span style=\"color: #00af00; text-decoration-color: #00af00\">0</span> │\n",
              "├─────────────────────────────────┼────────────────────────┼───────────────┤\n",
              "│ flatten (<span style=\"color: #0087ff; text-decoration-color: #0087ff\">Flatten</span>)               │ (<span style=\"color: #00d7ff; text-decoration-color: #00d7ff\">None</span>, <span style=\"color: #00af00; text-decoration-color: #00af00\">3136</span>)           │             <span style=\"color: #00af00; text-decoration-color: #00af00\">0</span> │\n",
              "├─────────────────────────────────┼────────────────────────┼───────────────┤\n",
              "│ dense (<span style=\"color: #0087ff; text-decoration-color: #0087ff\">Dense</span>)                   │ (<span style=\"color: #00d7ff; text-decoration-color: #00d7ff\">None</span>, <span style=\"color: #00af00; text-decoration-color: #00af00\">10</span>)             │        <span style=\"color: #00af00; text-decoration-color: #00af00\">31,370</span> │\n",
              "└─────────────────────────────────┴────────────────────────┴───────────────┘\n",
              "</pre>\n"
            ],
            "text/plain": [
              "┏━━━━━━━━━━━━━━━━━━━━━━━━━━━━━━━━━┳━━━━━━━━━━━━━━━━━━━━━━━━┳━━━━━━━━━━━━━━━┓\n",
              "┃\u001b[1m \u001b[0m\u001b[1mLayer (type)                   \u001b[0m\u001b[1m \u001b[0m┃\u001b[1m \u001b[0m\u001b[1mOutput Shape          \u001b[0m\u001b[1m \u001b[0m┃\u001b[1m \u001b[0m\u001b[1m      Param #\u001b[0m\u001b[1m \u001b[0m┃\n",
              "┡━━━━━━━━━━━━━━━━━━━━━━━━━━━━━━━━━╇━━━━━━━━━━━━━━━━━━━━━━━━╇━━━━━━━━━━━━━━━┩\n",
              "│ conv2d (\u001b[38;5;33mConv2D\u001b[0m)                 │ (\u001b[38;5;45mNone\u001b[0m, \u001b[38;5;34m28\u001b[0m, \u001b[38;5;34m28\u001b[0m, \u001b[38;5;34m16\u001b[0m)     │           \u001b[38;5;34m160\u001b[0m │\n",
              "├─────────────────────────────────┼────────────────────────┼───────────────┤\n",
              "│ max_pooling2d (\u001b[38;5;33mMaxPooling2D\u001b[0m)    │ (\u001b[38;5;45mNone\u001b[0m, \u001b[38;5;34m14\u001b[0m, \u001b[38;5;34m14\u001b[0m, \u001b[38;5;34m16\u001b[0m)     │             \u001b[38;5;34m0\u001b[0m │\n",
              "├─────────────────────────────────┼────────────────────────┼───────────────┤\n",
              "│ flatten (\u001b[38;5;33mFlatten\u001b[0m)               │ (\u001b[38;5;45mNone\u001b[0m, \u001b[38;5;34m3136\u001b[0m)           │             \u001b[38;5;34m0\u001b[0m │\n",
              "├─────────────────────────────────┼────────────────────────┼───────────────┤\n",
              "│ dense (\u001b[38;5;33mDense\u001b[0m)                   │ (\u001b[38;5;45mNone\u001b[0m, \u001b[38;5;34m10\u001b[0m)             │        \u001b[38;5;34m31,370\u001b[0m │\n",
              "└─────────────────────────────────┴────────────────────────┴───────────────┘\n"
            ]
          },
          "metadata": {},
          "output_type": "display_data"
        },
        {
          "data": {
            "text/html": [
              "<pre style=\"white-space:pre;overflow-x:auto;line-height:normal;font-family:Menlo,'DejaVu Sans Mono',consolas,'Courier New',monospace\"><span style=\"font-weight: bold\"> Total params: </span><span style=\"color: #00af00; text-decoration-color: #00af00\">31,530</span> (123.16 KB)\n",
              "</pre>\n"
            ],
            "text/plain": [
              "\u001b[1m Total params: \u001b[0m\u001b[38;5;34m31,530\u001b[0m (123.16 KB)\n"
            ]
          },
          "metadata": {},
          "output_type": "display_data"
        },
        {
          "data": {
            "text/html": [
              "<pre style=\"white-space:pre;overflow-x:auto;line-height:normal;font-family:Menlo,'DejaVu Sans Mono',consolas,'Courier New',monospace\"><span style=\"font-weight: bold\"> Trainable params: </span><span style=\"color: #00af00; text-decoration-color: #00af00\">31,530</span> (123.16 KB)\n",
              "</pre>\n"
            ],
            "text/plain": [
              "\u001b[1m Trainable params: \u001b[0m\u001b[38;5;34m31,530\u001b[0m (123.16 KB)\n"
            ]
          },
          "metadata": {},
          "output_type": "display_data"
        },
        {
          "data": {
            "text/html": [
              "<pre style=\"white-space:pre;overflow-x:auto;line-height:normal;font-family:Menlo,'DejaVu Sans Mono',consolas,'Courier New',monospace\"><span style=\"font-weight: bold\"> Non-trainable params: </span><span style=\"color: #00af00; text-decoration-color: #00af00\">0</span> (0.00 B)\n",
              "</pre>\n"
            ],
            "text/plain": [
              "\u001b[1m Non-trainable params: \u001b[0m\u001b[38;5;34m0\u001b[0m (0.00 B)\n"
            ]
          },
          "metadata": {},
          "output_type": "display_data"
        }
      ],
      "source": [
        "model1.summary()"
      ]
    },
    {
      "cell_type": "markdown",
      "metadata": {
        "id": "q3MeEL0iliwb"
      },
      "source": [
        "This shows that the convolutional layer has 160 parameters associated with it. There are 10 parameters for each of the 16 feature maps (neuron). There are 10 parameters for each feature map because there are 9 pixels in the filter (3x3) and an extra one for the bias.\n",
        "\n",
        "Notice that there are no parameters that need to be learned for the pooling layer. This is because it simply applies an operation (max) to a set of pixels and returns the results.\n",
        "\n",
        "Both the convolutional and pooling layers tell you the output shape, that is, the size of the image for the feature map.\n",
        "\n",
        "Similarly, the flatten layer just rearranges the pixels for the final layer, so there are no parameters associated with it.\n",
        "\n",
        "Finally, the fully connected layer (also the output layer) learns a weight for each of the pixels in the pooling layer (3136) plus a bias. This is done for each of the 10 classes (digits).  "
      ]
    },
    {
      "cell_type": "markdown",
      "metadata": {
        "id": "cI1KTp4NuOTJ"
      },
      "source": [
        "### Step 7: Compile and fit"
      ]
    },
    {
      "cell_type": "markdown",
      "metadata": {
        "id": "1fVC6hrouQZo"
      },
      "source": [
        "Next, we will compile and fit the model using the same steps we used for fully connected neural networks.  \n",
        "We'll use a batch size of 256 with 10 epochs.\n",
        "\n",
        "**N.B.: To keep this lesson simple, we're using the test set as a validation set. This is bad idea in practice, because we could overfit to the test set.**"
      ]
    },
    {
      "cell_type": "code",
      "execution_count": 8,
      "metadata": {
        "colab": {
          "base_uri": "https://localhost:8080/"
        },
        "id": "kRI5e2EWliwb",
        "outputId": "373749b9-39c6-424c-d1ee-8ade3a5e3f7d"
      },
      "outputs": [
        {
          "name": "stdout",
          "output_type": "stream",
          "text": [
            "Epoch 1/10\n",
            "\u001b[1m40/40\u001b[0m \u001b[32m━━━━━━━━━━━━━━━━━━━━\u001b[0m\u001b[37m\u001b[0m \u001b[1m1s\u001b[0m 14ms/step - accuracy: 0.7029 - loss: 7.1774 - val_accuracy: 0.8780 - val_loss: 1.6793\n",
            "Epoch 2/10\n",
            "\u001b[1m40/40\u001b[0m \u001b[32m━━━━━━━━━━━━━━━━━━━━\u001b[0m\u001b[37m\u001b[0m \u001b[1m0s\u001b[0m 11ms/step - accuracy: 0.9005 - loss: 1.1673 - val_accuracy: 0.9067 - val_loss: 1.0070\n",
            "Epoch 3/10\n",
            "\u001b[1m40/40\u001b[0m \u001b[32m━━━━━━━━━━━━━━━━━━━━\u001b[0m\u001b[37m\u001b[0m \u001b[1m0s\u001b[0m 11ms/step - accuracy: 0.9307 - loss: 0.6215 - val_accuracy: 0.9286 - val_loss: 0.6653\n",
            "Epoch 4/10\n",
            "\u001b[1m40/40\u001b[0m \u001b[32m━━━━━━━━━━━━━━━━━━━━\u001b[0m\u001b[37m\u001b[0m \u001b[1m0s\u001b[0m 11ms/step - accuracy: 0.9534 - loss: 0.3179 - val_accuracy: 0.9316 - val_loss: 0.5983\n",
            "Epoch 5/10\n",
            "\u001b[1m40/40\u001b[0m \u001b[32m━━━━━━━━━━━━━━━━━━━━\u001b[0m\u001b[37m\u001b[0m \u001b[1m1s\u001b[0m 13ms/step - accuracy: 0.9639 - loss: 0.2024 - val_accuracy: 0.9373 - val_loss: 0.5533\n",
            "Epoch 6/10\n",
            "\u001b[1m40/40\u001b[0m \u001b[32m━━━━━━━━━━━━━━━━━━━━\u001b[0m\u001b[37m\u001b[0m \u001b[1m0s\u001b[0m 11ms/step - accuracy: 0.9742 - loss: 0.1248 - val_accuracy: 0.9382 - val_loss: 0.5317\n",
            "Epoch 7/10\n",
            "\u001b[1m40/40\u001b[0m \u001b[32m━━━━━━━━━━━━━━━━━━━━\u001b[0m\u001b[37m\u001b[0m \u001b[1m0s\u001b[0m 11ms/step - accuracy: 0.9817 - loss: 0.0733 - val_accuracy: 0.9452 - val_loss: 0.4547\n",
            "Epoch 8/10\n",
            "\u001b[1m40/40\u001b[0m \u001b[32m━━━━━━━━━━━━━━━━━━━━\u001b[0m\u001b[37m\u001b[0m \u001b[1m0s\u001b[0m 11ms/step - accuracy: 0.9879 - loss: 0.0446 - val_accuracy: 0.9462 - val_loss: 0.4442\n",
            "Epoch 9/10\n",
            "\u001b[1m40/40\u001b[0m \u001b[32m━━━━━━━━━━━━━━━━━━━━\u001b[0m\u001b[37m\u001b[0m \u001b[1m0s\u001b[0m 11ms/step - accuracy: 0.9946 - loss: 0.0221 - val_accuracy: 0.9470 - val_loss: 0.4427\n",
            "Epoch 10/10\n",
            "\u001b[1m40/40\u001b[0m \u001b[32m━━━━━━━━━━━━━━━━━━━━\u001b[0m\u001b[37m\u001b[0m \u001b[1m0s\u001b[0m 11ms/step - accuracy: 0.9962 - loss: 0.0148 - val_accuracy: 0.9461 - val_loss: 0.4464\n",
            "\u001b[1m313/313\u001b[0m \u001b[32m━━━━━━━━━━━━━━━━━━━━\u001b[0m\u001b[37m\u001b[0m \u001b[1m0s\u001b[0m 755us/step - accuracy: 0.9461 - loss: 0.4464\n"
          ]
        },
        {
          "data": {
            "text/plain": [
              "[0.446445494890213, 0.9460999965667725]"
            ]
          },
          "execution_count": 8,
          "metadata": {},
          "output_type": "execute_result"
        }
      ],
      "source": [
        "model1.compile(optimizer='adam',\n",
        "               loss='categorical_crossentropy',\n",
        "               metrics=['accuracy'])\n",
        "model1.fit(X_train, y_train, epochs=10, batch_size=256,\n",
        "           validation_data=(X_test, y_test))\n",
        "model1.evaluate(X_test, y_test)"
      ]
    },
    {
      "cell_type": "markdown",
      "metadata": {
        "id": "l7-BmEpcliwb"
      },
      "source": [
        "### Step 8: Plot feature maps"
      ]
    },
    {
      "cell_type": "markdown",
      "metadata": {
        "id": "dxgsqweJuXeW"
      },
      "source": [
        "One advantage of using CNNs for image data is the ability to examine how the network is representing features of the images.  \n",
        "We can take an example from our dataset and see how the convolutional and pooling creates feature maps.  \n",
        "\n",
        "Here is an example image:"
      ]
    },
    {
      "cell_type": "code",
      "execution_count": 9,
      "metadata": {
        "colab": {
          "base_uri": "https://localhost:8080/",
          "height": 447
        },
        "id": "Uupyl1WCliwb",
        "outputId": "7b05b063-6b0b-4e3c-f5d9-2a57d79f7236"
      },
      "outputs": [
        {
          "data": {
            "text/plain": [
              "<matplotlib.image.AxesImage at 0x166cbbf20>"
            ]
          },
          "execution_count": 9,
          "metadata": {},
          "output_type": "execute_result"
        },
        {
          "data": {
            "image/png": "[encoded data removed]",
            "text/plain": [
              "<Figure size 640x480 with 1 Axes>"
            ]
          },
          "metadata": {},
          "output_type": "display_data"
        }
      ],
      "source": [
        "# An example that we'll explore\n",
        "img_index = 0\n",
        "example = X_train[img_index, :, :, 0].reshape(28, 28)\n",
        "\n",
        "plt.imshow(example, plt.cm.binary)"
      ]
    },
    {
      "cell_type": "markdown",
      "metadata": {
        "id": "M74KzxM7ubRZ"
      },
      "source": [
        "### Step 9: Predictions"
      ]
    },
    {
      "cell_type": "markdown",
      "metadata": {
        "id": "bUZ7LYasliwc"
      },
      "source": [
        "Before we can plot the features maps, we need to extract the outputs from each layer of the network.\n",
        "\n",
        "We can get this by creating a model from the trained layers, and getting predictions for each layer."
      ]
    },
    {
      "cell_type": "code",
      "execution_count": 10,
      "metadata": {
        "colab": {
          "base_uri": "https://localhost:8080/"
        },
        "id": "cMrBQ8ZNliwc",
        "outputId": "86922ac6-7082-4668-b4f0-d22117a27a7c"
      },
      "outputs": [
        {
          "name": "stdout",
          "output_type": "stream",
          "text": [
            "\u001b[1m1/1\u001b[0m \u001b[32m━━━━━━━━━━━━━━━━━━━━\u001b[0m\u001b[37m\u001b[0m \u001b[1m0s\u001b[0m 49ms/step\n"
          ]
        }
      ],
      "source": [
        "# Create list of layer outputs\n",
        "layer_outputs = [layer.output for layer in model1.layers]\n",
        "\n",
        "# Create a model that will return the outputs at each layer\n",
        "layers_model = keras.Model(inputs=model1.layers[0].input, outputs=layer_outputs)\n",
        "\n",
        "# Get predictions for each layer of the network\n",
        "outputs = layers_model.predict(example.reshape(1, 28, 28, 1))\n",
        "conv_output = outputs[0]\n",
        "pooling_output = outputs[1]"
      ]
    },
    {
      "cell_type": "markdown",
      "metadata": {
        "id": "5etbArChulQC"
      },
      "source": [
        "### Step 10: Feature Maps (first convolution layer)"
      ]
    },
    {
      "cell_type": "markdown",
      "metadata": {
        "id": "IacYZBfkliwc"
      },
      "source": [
        "Now let's plot the 16 feature maps from the first convolutional layer."
      ]
    },
    {
      "cell_type": "code",
      "execution_count": 11,
      "metadata": {
        "colab": {
          "base_uri": "https://localhost:8080/",
          "height": 345
        },
        "id": "OV-9XOLTliwc",
        "outputId": "1259fec3-94fc-4e60-9a8a-2f0b8b1b8fd5"
      },
      "outputs": [
        {
          "data": {
            "image/png": "[encoded data removed]",
            "text/plain": [
              "<Figure size 400x400 with 16 Axes>"
            ]
          },
          "metadata": {},
          "output_type": "display_data"
        }
      ],
      "source": [
        "# 16 feature maps\n",
        "def PlotFeatureMaps(output_predictions):\n",
        "    \"\"\" This plots the features maps from the output of either a\n",
        "        convolutional or pooling layer with 16 feature maps (neurons).\n",
        "\n",
        "        output_predictions should be a 4 dimensional array of predictions from a layer.\n",
        "        The first dimension should be 1 (it's just a single image).\n",
        "        The last dimension is for the indices of the feature maps (0-15).\n",
        "    \"\"\"\n",
        "    n_col = 4\n",
        "    n_row = 4\n",
        "    plt.figure(figsize=(n_col, n_row))\n",
        "    for j in range(n_row * n_col):\n",
        "        plt.subplot(n_row, n_col, j + 1)\n",
        "        plt.imshow(output_predictions[0, :, :, j], cmap=plt.cm.binary)\n",
        "        plt.xticks(())\n",
        "        plt.yticks(())\n",
        "    plt.show\n",
        "    return None\n",
        "\n",
        "PlotFeatureMaps(conv_output)"
      ]
    },
    {
      "cell_type": "markdown",
      "metadata": {
        "id": "mdDGUfl0uugs"
      },
      "source": [
        "### Step 11: Feature Maps (first pooling layer)"
      ]
    },
    {
      "cell_type": "markdown",
      "metadata": {
        "id": "BXR-_KtUliwc"
      },
      "source": [
        "Here are the 16 feature maps from the first pooling layer. Notice how they are the same images from the convolutional layer, but are condensed and smaller versions."
      ]
    },
    {
      "cell_type": "code",
      "execution_count": 12,
      "metadata": {
        "colab": {
          "base_uri": "https://localhost:8080/",
          "height": 345
        },
        "id": "CChx6guFliwc",
        "outputId": "675de10d-1e00-45bf-895e-5cf499662cc2"
      },
      "outputs": [
        {
          "data": {
            "image/png": "[encoded data removed]",
            "text/plain": [
              "<Figure size 400x400 with 16 Axes>"
            ]
          },
          "metadata": {},
          "output_type": "display_data"
        }
      ],
      "source": [
        "PlotFeatureMaps(pooling_output)"
      ]
    },
    {
      "cell_type": "code",
      "execution_count": null,
      "metadata": {},
      "outputs": [],
      "source": []
    }
  ],
  "metadata": {
    "colab": {
      "provenance": []
    },
    "kernelspec": {
      "display_name": "ml-env",
      "language": "python",
      "name": "python3"
    },
    "language_info": {
      "codemirror_mode": {
        "name": "ipython",
        "version": 3
      },
      "file_extension": ".py",
      "mimetype": "text/x-python",
      "name": "python",
      "nbconvert_exporter": "python",
      "pygments_lexer": "ipython3",
      "version": "3.12.0"
    }
  },
  "nbformat": 4,
  "nbformat_minor": 0
}
